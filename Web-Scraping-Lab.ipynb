#this url contains the data you need to scrape
url = "https://cf-courses-data.s3.us.cloud-object-storage.appdomain.cloud/IBM-DA0321EN-SkillsNetwork/labs/datasets/Programming_Languages.html"

# Your code here
from bs4 import BeautifulSoup # this module helps in web scrapping.
import requests  # this module helps us to download a webpage
import pandas as pd
#your code goes here
data  = requests.get(url).text 
# Importing required libraries
import requests
from bs4 import BeautifulSoup
import pandas as pd

# URL to extract data from
url = "https://cf-courses-data.s3.us.cloud-object-storage.appdomain.cloud/IBM-DA0321EN-SkillsNetwork/labs/datasets/Programming_Languages.html"

# Sending a request to the website
response = requests.get(url)

# Check if the request was successful
if response.status_code == 200:
    # Parsing the content of the webpage
    soup = BeautifulSoup(response.content, 'html.parser')

    # Finding the table in the webpage
    table = soup.find('table')

    # Extracting all rows from the table
    rows = table.find_all('tr')

    # List to store the scraped data
    languages_salaries = []

    # Loop through each row (skip the header)
    for row in rows[1:]:
        cols = row.find_all('td')
        language = cols[1].text.strip()  # Get the programming language name
        salary = cols[3].text.strip()    # Get the annual average salary
        languages_salaries.append([language, salary])

    # Creating a DataFrame from the scraped data
    df = pd.DataFrame(languages_salaries, columns=['Language', 'Annual Average Salary'])

    # Display the DataFrame
    print(df)
else:
    print("Failed to retrieve the webpage")
# your code goes here
df.to_csv('popular-languages.csv', index=False)
